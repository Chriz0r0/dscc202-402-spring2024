{
 "cells": [
  {
   "cell_type": "markdown",
   "metadata": {
    "application/vnd.databricks.v1+cell": {
     "cellMetadata": {
      "byteLimit": 2048000,
      "rowLimit": 10000
     },
     "inputWidgets": {},
     "nuid": "fc749083-2211-485c-943f-640e198b2c70",
     "showTitle": false,
     "title": ""
    }
   },
   "source": [
    "## DSCC202-402 Data Science at Scale Final Project\n",
    "### Tracking Tweet sentiment at scale using a pretrained transformer (classifier)\n",
    "<p>Consider the following illustration of the end to end system that you will be building.  Each student should do their own work.  The project will demonstrate your understanding of Spark Streaming, the medalion data architecture using Delta Lake, Spark Inference at Scale using an MLflow packaged model as well as Exploritory Data Analysis and System Tracking and Monitoring.</p>\n",
    "<br><br>\n",
    "<img src=\"https://data-science-at-scale.s3.amazonaws.com/images/pipeline.drawio.png\">\n",
    "\n",
    "<p>\n",
    "You will be pulling an updated copy of the course GitHub repositiory: <a href=\"https://github.com/lpalum/dscc202-402-spring2024\">The Repo</a>.  If you are unclear on how to pull an updated copy using the GitHub command line, the following <a href=\"https://techwritingmatters.com/how-to-update-your-forked-repository-on-github\">document</a> is helpful.  Be sure to add the professors and TAs as collaborators on your project. \n",
    "\n",
    "- lpalum@gmail.com GitHub ID: lpalum\n",
    "- ajay.anand@rochester.edu GitHub ID: ajayan12\n",
    "- divyamunot1999@gmail.com GitHub ID: divyamunot\n",
    "- ylong6@u.Rochester.edu GitHub ID: NinaLong2077\n",
    "\n",
    "Once you have updates your fork of the repository you should see the following template project that is resident in the final_project directory.\n",
    "</p>\n",
    "\n",
    "<img src=\"https://data-science-at-scale.s3.amazonaws.com/images/notebooks.drawio.png\">\n",
    "\n",
    "<p>\n",
    "You can then pull your project into the Databrick Workspace using the <a href=\"https://www.databricks.training/step-by-step/importing-courseware-from-github/index.html\">Repos</a> feature.\n",
    "Each student is expected to submit the URL of their project on GitHub with their code checked in on the main/master branch.  This illustration highlights the branching scheme that you may use to work on your code in steps and then merge your submission into your master branch before submitting.\n",
    "</p>\n",
    "<img src=\"https://data-science-at-scale.s3.amazonaws.com/images/github.drawio.png\">\n",
    "<p>\n",
    "Work your way through this notebook which will give you the steps required to submit a complete and compliant project.  The following illustration and associated data dictionary specifies the transformations and data that you are to generate for each step in the medallion pipeline.\n",
    "</p>\n",
    "<br><br>\n",
    "<img src=\"https://data-science-at-scale.s3.amazonaws.com/images/dataframes.drawio.png\">\n",
    "\n",
    "#### Bronze Data - raw ingest\n",
    "- date - string in the source json\n",
    "- user - string in the source json\n",
    "- text - tweet string in the source json\n",
    "- sentiment - the given sentiment of the text as determined by an unknown model that is provided in the source json\n",
    "- source_file - the path of the source json file the this row of data was read from\n",
    "- processing_time - a timestamp of when you read this row from the source json\n",
    "\n",
    "#### Silver Data - Bronze Preprocessing\n",
    "- timestamp - convert date string in the bronze data to a timestamp\n",
    "- mention - every @username mentioned in the text string in the bronze data gets a row in this silver data table.\n",
    "- cleaned_text - the bronze text data with the mentions (@username) removed.\n",
    "- sentiment - the given sentiment that was associated with the text in the bronze table.\n",
    "\n",
    "#### Gold Data - Silver Table Inference\n",
    "- timestamp - the timestamp from the silver data table rows\n",
    "- mention - the mention from the silver data table rows\n",
    "- cleaned_text - the cleaned_text from the silver data table rows\n",
    "- sentiment - the given sentiment from the silver data table rows\n",
    "- predicted_score - score out of 100 from the Hugging Face Sentiment Transformer\n",
    "- predicted_sentiment - string representation of the sentiment\n",
    "- sentiment_id - 0 for negative and 1 for postive associated with the given sentiment\n",
    "- predicted_sentiment_id - 0 for negative and 1 for positive assocaited with the Hugging Face Sentiment Transformer\n",
    "\n",
    "#### Application Data - Gold Table Aggregation\n",
    "- min_timestamp - the oldest timestamp on a given mention (@username)\n",
    "- max_timestamp - the newest timestamp on a given mention (@username)\n",
    "- mention - the user (@username) that this row pertains to.\n",
    "- negative - total negative tweets directed at this mention (@username)\n",
    "- neutral - total neutral tweets directed at this mention (@username)\n",
    "- positive - total positive tweets directed at this mention (@username)\n",
    "\n",
    "When you are designing your approach, one of the main decisions that you will need to make is how you are going to orchestrate the streaming data processing in your pipeline.  There are several valid approaches.  First, you may choose to start the bronze_stream and let it complete (read and append all of the source data) before preceeding and starting up the silver_stream.  This approach has latency associated with it but it will allow your code to proceed in a linear fashion and process all the data by the end of your notebook execution.  Another potential approach is to start all the streams and have a \"watch\" method to determine when the pipeline has processed sufficient or all of the source data before stopping and displaying results.  Both of these approaches are valid and have different implications on how you will trigger your steams and how you will gate the execution of your pipeline.  Think through how you want to proceed and ask questions if you need guidance. The following references may be helpful:\n",
    "- [Spark Structured Streaming Programming Guide](https://spark.apache.org/docs/latest/structured-streaming-programming-guide.html)\n",
    "- [Databricks Autoloader - Cloudfiles](https://docs.databricks.com/en/ingestion/auto-loader/index.html)\n",
    "\n",
    "### Be sure that your project runs end to end when *Run all* is executued on this notebook! (15 Points out of 60)"
   ]
  },
  {
   "cell_type": "code",
   "execution_count": 0,
   "metadata": {
    "application/vnd.databricks.v1+cell": {
     "cellMetadata": {
      "byteLimit": 2048000,
      "rowLimit": 10000
     },
     "inputWidgets": {},
     "nuid": "068f25d0-1387-4342-89cf-ce82a8d614ce",
     "showTitle": true,
     "title": "Pull in the Includes & Utiltites"
    }
   },
   "outputs": [
    {
     "output_type": "stream",
     "name": "stdout",
     "output_type": "stream",
     "text": [
      "\u001B[31mERROR: pip's dependency resolver does not currently take into account all the packages that are installed. This behaviour is the source of the following dependency conflicts.\r\npetastorm 0.11.4 requires pyspark>=2.1.0, which is not installed.\u001B[0m\r\n"
     ]
    },
    {
     "output_type": "display_data",
     "data": {
      "application/vnd.databricks.v1+bamboolib_hint": "{\"pd.DataFrames\": [], \"version\": \"0.0.1\"}",
      "text/plain": []
     },
     "metadata": {},
     "output_type": "display_data"
    },
    {
     "output_type": "display_data",
     "data": {
      "text/html": [
       "\n",
       "<H2>VERY IMPORTANT TO UNDERSTAND THE USE OF THESE VARIABLES!<br> Please ask if you are confused about their use.</H2>\n",
       "<table border=1>\n",
       "<tr><td><b>Variable Name</b></td><td><b>Value</b></td><td><b>Description</b></td></tr>\n",
       "<tr><td>TWEET_BUCKET_NAME</td><td>voc-75-databricks-data</td><td>AWS S3 Bucket Name where the tweets are coming into your system.</td></tr>\n",
       "<tr><td>TWEET_BUCKET_URL</td><td>https://voc-75-databricks-data.s3.amazonaws.com/</td><td>AWS S3 Bucket URL where the tweets are coming into your system.</td></tr>\n",
       "<tr><td>TWEET_SOURCE_PATH</td><td>s3a://voc-75-databricks-data/voc_volume/</td><td>AWS S3 Path where the tweets are coming into your system.</td></tr>\n",
       "<tr><td>USER_DIR</td><td>/tmp/labuser104917-3134916/</td><td>Path to the local storage (dbfs) for your project.</td></tr>\n",
       "<tr><td>BRONZE_CHECKPOINT</td><td>/tmp/labuser104917-3134916/bronze.checkpoint</td><td>Store your Bronze Checkpoint data here.</td></tr>\n",
       "<tr><td>BRONZE_DELTA</td><td>/tmp/labuser104917-3134916/bronze.delta</td><td>Store your Bronze Delta Table here.</td></tr>\n",
       "<tr><td>SILVER_CHECKPOINT</td><td>/tmp/labuser104917-3134916/silver.checkpoint</td><td>Store your Silver Checkpoint data here.</td></tr>\n",
       "<tr><td>SILVER_DELTA</td><td>/tmp/labuser104917-3134916/silver.delta</td><td>Store your Silver Delta Table here.</td></tr>\n",
       "<tr><td>GOLD_CHECKPOINT</td><td>/tmp/labuser104917-3134916/gold.checkpoint</td><td>Store your Gold Checkpoint data here.</td></tr>\n",
       "<tr><td>GOLD_DELTA</td><td>/tmp/labuser104917-3134916/gold.delta</td><td>Store your Gold Delta Table here.</td></tr>\n",
       "<tr><td>MODEL_NAME</td><td>HF_TWEET_SENTIMENT</td><td>Load this production model</td></tr>\n",
       "<tr><td>HF_MODEL_NAME</td><td>finiteautomata/bertweet-base-sentiment-analysis</td><td>The Hugging Face Model for Tweet sentiment classification: https://huggingface.co/finiteautomata/bertweet-base-sentiment-analysis </td></tr>\n",
       "</table>\n"
      ]
     },
     "metadata": {
      "application/vnd.databricks.v1+output": {
       "addedWidgets": {},
       "arguments": {},
       "data": "\n<H2>VERY IMPORTANT TO UNDERSTAND THE USE OF THESE VARIABLES!<br> Please ask if you are confused about their use.</H2>\n<table border=1>\n<tr><td><b>Variable Name</b></td><td><b>Value</b></td><td><b>Description</b></td></tr>\n<tr><td>TWEET_BUCKET_NAME</td><td>voc-75-databricks-data</td><td>AWS S3 Bucket Name where the tweets are coming into your system.</td></tr>\n<tr><td>TWEET_BUCKET_URL</td><td>https://voc-75-databricks-data.s3.amazonaws.com/</td><td>AWS S3 Bucket URL where the tweets are coming into your system.</td></tr>\n<tr><td>TWEET_SOURCE_PATH</td><td>s3a://voc-75-databricks-data/voc_volume/</td><td>AWS S3 Path where the tweets are coming into your system.</td></tr>\n<tr><td>USER_DIR</td><td>/tmp/labuser104917-3134916/</td><td>Path to the local storage (dbfs) for your project.</td></tr>\n<tr><td>BRONZE_CHECKPOINT</td><td>/tmp/labuser104917-3134916/bronze.checkpoint</td><td>Store your Bronze Checkpoint data here.</td></tr>\n<tr><td>BRONZE_DELTA</td><td>/tmp/labuser104917-3134916/bronze.delta</td><td>Store your Bronze Delta Table here.</td></tr>\n<tr><td>SILVER_CHECKPOINT</td><td>/tmp/labuser104917-3134916/silver.checkpoint</td><td>Store your Silver Checkpoint data here.</td></tr>\n<tr><td>SILVER_DELTA</td><td>/tmp/labuser104917-3134916/silver.delta</td><td>Store your Silver Delta Table here.</td></tr>\n<tr><td>GOLD_CHECKPOINT</td><td>/tmp/labuser104917-3134916/gold.checkpoint</td><td>Store your Gold Checkpoint data here.</td></tr>\n<tr><td>GOLD_DELTA</td><td>/tmp/labuser104917-3134916/gold.delta</td><td>Store your Gold Delta Table here.</td></tr>\n<tr><td>MODEL_NAME</td><td>HF_TWEET_SENTIMENT</td><td>Load this production model</td></tr>\n<tr><td>HF_MODEL_NAME</td><td>finiteautomata/bertweet-base-sentiment-analysis</td><td>The Hugging Face Model for Tweet sentiment classification: https://huggingface.co/finiteautomata/bertweet-base-sentiment-analysis </td></tr>\n</table>\n",
       "datasetInfos": [],
       "metadata": {},
       "removedWidgets": [],
       "textData": null,
       "type": "htmlSandbox"
      }
     },
     "output_type": "display_data"
    },
    {
     "output_type": "stream",
     "name": "stdout",
     "output_type": "stream",
     "text": [
      "the includes are included\n"
     ]
    }
   ],
   "source": [
    "%run ./includes/includes"
   ]
  },
  {
   "cell_type": "code",
   "execution_count": 0,
   "metadata": {
    "application/vnd.databricks.v1+cell": {
     "cellMetadata": {
      "byteLimit": 2048000,
      "rowLimit": 10000
     },
     "inputWidgets": {},
     "nuid": "6512bf1b-50e0-4a4b-84a9-e280a6260b56",
     "showTitle": true,
     "title": "Notebook Control Widgets (maybe helpful)"
    }
   },
   "outputs": [
    {
     "output_type": "stream",
     "name": "stdout",
     "output_type": "stream",
     "text": [
      "Stopped all active streams.\n"
     ]
    }
   ],
   "source": [
    "\"\"\"\n",
    "Adding a widget to the notebook to control the clearing of a previous run.\n",
    "or stopping the active streams using routines defined in the utilities notebook\n",
    "\"\"\"\n",
    "dbutils.widgets.removeAll()\n",
    "\n",
    "dbutils.widgets.dropdown(\"clear_previous_run\", \"No\", [\"No\",\"Yes\"])\n",
    "if (getArgument(\"clear_previous_run\") == \"Yes\"):\n",
    "    clear_previous_run()\n",
    "    print(\"Cleared all previous data.\")\n",
    "\n",
    "dbutils.widgets.dropdown(\"stop_streams\", \"No\", [\"No\",\"Yes\"])\n",
    "if (getArgument(\"stop_streams\") == \"Yes\"):\n",
    "    stop_all_streams()\n",
    "    print(\"Stopped all active streams.\")\n",
    "\n",
    "from delta import *\n",
    "dbutils.widgets.dropdown(\"optimize_tables\", \"No\", [\"No\",\"Yes\"])\n",
    "if (getArgument(\"optimize_tables\") == \"Yes\"):\n",
    "    # Suck up those small files that we have been appending.\n",
    "    DeltaTable.forPath(spark, BRONZE_DELTA).optimize().executeCompaction()\n",
    "    # Suck up those small files that we have been appending.\n",
    "    DeltaTable.forPath(spark, SILVER_DELTA).optimize().executeCompaction()\n",
    "    # Suck up those small files that we have been appending.\n",
    "    DeltaTable.forPath(spark, GOLD_DELTA).optimize().executeCompaction()\n",
    "    print(\"Optimized all of the Delta Tables\")"
   ]
  },
  {
   "cell_type": "markdown",
   "metadata": {
    "application/vnd.databricks.v1+cell": {
     "cellMetadata": {
      "byteLimit": 2048000,
      "rowLimit": 10000
     },
     "inputWidgets": {},
     "nuid": "e8ce7c13-7f8f-4e11-b50c-fdaebbcf3f99",
     "showTitle": false,
     "title": ""
    }
   },
   "source": [
    "## 1.0 Import your libraries here...\n",
    "- Are your shuffle partitions consistent with your cluster and your workload?\n",
    "- Do you have the necessary libraries to perform the required operations in the pipeline/application?"
   ]
  },
  {
   "cell_type": "code",
   "execution_count": 0,
   "metadata": {
    "application/vnd.databricks.v1+cell": {
     "cellMetadata": {
      "byteLimit": 2048000,
      "rowLimit": 10000
     },
     "inputWidgets": {},
     "nuid": "67bafbb7-d34e-4e86-b159-b2e062faa1d0",
     "showTitle": false,
     "title": ""
    }
   },
   "outputs": [
    {
     "output_type": "display_data",
     "data": {
      "text/html": [
       "<style scoped>\n",
       "  .ansiout {\n",
       "    display: block;\n",
       "    unicode-bidi: embed;\n",
       "    white-space: pre-wrap;\n",
       "    word-wrap: break-word;\n",
       "    word-break: break-all;\n",
       "    font-family: \"Menlo\", \"Monaco\", \"Consolas\", \"Ubuntu Mono\", \"Source Code Pro\", monospace;\n",
       "    font-size: 13px;\n",
       "    color: #555;\n",
       "    margin-left: 4px;\n",
       "    line-height: 19px;\n",
       "  }\n",
       "</style>"
      ]
     },
     "metadata": {
      "application/vnd.databricks.v1+output": {
       "arguments": {},
       "data": "",
       "errorSummary": "Command skipped",
       "errorTraceType": "raw",
       "metadata": {},
       "type": "ipynbError"
      }
     },
     "output_type": "display_data"
    }
   ],
   "source": [
    "# ENTER YOUR CODE HERE\n",
    "\n"
   ]
  },
  {
   "cell_type": "markdown",
   "metadata": {
    "application/vnd.databricks.v1+cell": {
     "cellMetadata": {
      "byteLimit": 2048000,
      "rowLimit": 10000
     },
     "inputWidgets": {},
     "nuid": "2b7624b4-0aa5-46b7-9767-52f462b2c574",
     "showTitle": false,
     "title": ""
    }
   },
   "source": [
    "## 2.0 Use the utility functions to ...\n",
    "- Read the source file directory listing\n",
    "- Count the source files (how many are there?)\n",
    "- print the contents of one of the files"
   ]
  },
  {
   "cell_type": "code",
   "execution_count": 0,
   "metadata": {
    "application/vnd.databricks.v1+cell": {
     "cellMetadata": {
      "byteLimit": 2048000,
      "rowLimit": 10000
     },
     "inputWidgets": {},
     "nuid": "a59749d5-e45d-460f-9be1-33652cda2ea5",
     "showTitle": false,
     "title": ""
    }
   },
   "outputs": [
    {
     "output_type": "stream",
     "name": "stdout",
     "output_type": "stream",
     "text": [
      "Number of files in source directory: 200001\nb'{\"date\": \"Mon Apr 06 22:19:45 PDT 2009\", \"user\": \"_TheSpecialOne_\", \"text\": \"@switchfoot http://twitpic.com/2y1zl - Awww, that\\'s a bummer.  You shoulda got David Carr of Third Day to do it. ;D\", \"sentiment\": \"negative\"}'\n"
     ]
    }
   ],
   "source": [
    "# ENTER YOUR CODE HERE\n",
    "\n",
    "from pyspark.sql import SparkSession\n",
    "import pandas as pd\n",
    "\n",
    "# Initialize Spark Session\n",
    "spark = SparkSession.builder.appName(\"TweetSentimentAnalysis\").getOrCreate()\n",
    "\n",
    "# Get source listing DataFrame\n",
    "source_df = get_source_listing_df()\n",
    "\n",
    "# Count source files\n",
    "num_files = len(source_df)\n",
    "\n",
    "print(f\"Number of files in source directory: {num_files}\")\n",
    "\n",
    "# Optional: Print contents of a file\n",
    "if num_files > 0:\n",
    "    file_to_display = source_df.iloc[0]['File Name']  # Assuming you want to display the first file\n",
    "    file_contents = show_s3_file_contents(file_to_display)\n",
    "    print(file_contents)\n"
   ]
  },
  {
   "cell_type": "markdown",
   "metadata": {
    "application/vnd.databricks.v1+cell": {
     "cellMetadata": {
      "byteLimit": 2048000,
      "rowLimit": 10000
     },
     "inputWidgets": {},
     "nuid": "1676aed7-527f-4ea7-9d3b-52544e8c1e37",
     "showTitle": false,
     "title": ""
    }
   },
   "source": [
    "## 3.0 Transform the Raw Data to Bronze Data using a stream\n",
    "- define the schema for the raw data\n",
    "- setup a read stream using cloudfiles and the source data format\n",
    "- setup a write stream using cloudfiles to append to the bronze delta table\n",
    "- enforce schema\n",
    "- allow a new schema to be merged into the bronze delta table\n",
    "- Use the defined BRONZE_CHECKPOINT and BRONZE_DELTA paths defines in the includes\n",
    "- name your raw to bronze stream as bronze_stream\n",
    "- transform the raw data to the bronze data using the data definition at the top of the notebook"
   ]
  },
  {
   "cell_type": "code",
   "execution_count": 0,
   "metadata": {
    "application/vnd.databricks.v1+cell": {
     "cellMetadata": {
      "byteLimit": 2048000,
      "rowLimit": 10000
     },
     "inputWidgets": {},
     "nuid": "c1b98f7a-254a-4a95-8051-c7080188246a",
     "showTitle": false,
     "title": ""
    }
   },
   "outputs": [],
   "source": [
    "from pyspark.sql import SparkSession\n",
    "from pyspark.sql.functions import lit, current_timestamp\n",
    "import os\n",
    "\n",
    "# Create a Spark session\n",
    "spark = SparkSession.builder \\\n",
    "    .appName(\"TweetSentimentAnalysisStreaming\") \\\n",
    "    .getOrCreate()\n",
    "\n",
    "# Define the schema for the raw data\n",
    "raw_schema = \"date STRING, user STRING, text STRING, sentiment STRING\"\n",
    "\n",
    "# Create a streaming DataFrame using readStream\n",
    "raw_stream_df = spark.readStream \\\n",
    "    .schema(raw_schema) \\\n",
    "    .json(TWEET_SOURCE_PATH)\n",
    "\n",
    "# Define the transformation function for the stream\n",
    "def transform_raw(df):\n",
    "    # Get the source file path from the TWEET_SOURCE_PATH variable\n",
    "    source_file = os.path.basename(TWEET_SOURCE_PATH)\n",
    "    return df.withColumn(\"source_file\", lit(source_file)) \\\n",
    "             .withColumn(\"processing_time\", current_timestamp())\n",
    "\n",
    "# Apply transformation to the streaming DataFrame\n",
    "transformed_stream_df = transform_raw(raw_stream_df)\n",
    "\n"
   ]
  },
  {
   "cell_type": "code",
   "execution_count": 0,
   "metadata": {
    "application/vnd.databricks.v1+cell": {
     "cellMetadata": {
      "byteLimit": 2048000,
      "rowLimit": 10000
     },
     "inputWidgets": {},
     "nuid": "3e6155fa-6150-454a-a0de-c8d9cbcb8d55",
     "showTitle": false,
     "title": ""
    }
   },
   "outputs": [],
   "source": [
    "# Write the transformed streaming DataFrame to the Bronze Delta table using writeStream\n",
    "query = transformed_stream_df.writeStream \\\n",
    "    .format(\"delta\") \\\n",
    "    .option(\"checkpointLocation\", BRONZE_CHECKPOINT) \\\n",
    "    .outputMode(\"append\") \\\n",
    "    .start(BRONZE_DELTA)\n",
    "\n",
    "\n"
   ]
  },
  {
   "cell_type": "code",
   "execution_count": 0,
   "metadata": {
    "application/vnd.databricks.v1+cell": {
     "cellMetadata": {},
     "inputWidgets": {},
     "nuid": "e872d567-c01d-49e9-9078-92641cdfd0da",
     "showTitle": false,
     "title": ""
    }
   },
   "outputs": [],
   "source": [
    "# # Start the streaming query\n",
    "# query.awaitTermination()"
   ]
  },
  {
   "cell_type": "markdown",
   "metadata": {
    "application/vnd.databricks.v1+cell": {
     "cellMetadata": {
      "byteLimit": 2048000,
      "rowLimit": 10000
     },
     "inputWidgets": {},
     "nuid": "9bc3e824-d218-43e5-a43b-4c6dbe31950d",
     "showTitle": false,
     "title": ""
    }
   },
   "source": [
    "## 4.0 Bronze Data Exploratory Data Analysis\n",
    "- How many tweets are captured in your Bronze Table?\n",
    "- Are there any columns that contain Nan or Null values?  If so how many and what will you do in your silver transforms to address this?\n",
    "- Count the number of tweets by each unique user handle and sort the data by descending count.\n",
    "- How many tweets have at least one mention (@) how many tweet have no mentions (@)\n",
    "- Plot a bar chart that shows the top 20 tweeters (users)\n"
   ]
  },
  {
   "cell_type": "code",
   "execution_count": 0,
   "metadata": {
    "application/vnd.databricks.v1+cell": {
     "cellMetadata": {
      "byteLimit": 2048000,
      "rowLimit": 10000
     },
     "inputWidgets": {},
     "nuid": "3cbf9209-b8bc-48fb-b373-a8c7d5cc87cd",
     "showTitle": false,
     "title": ""
    }
   },
   "outputs": [
    {
     "output_type": "stream",
     "name": "stdout",
     "output_type": "stream",
     "text": [
      "Number of tweets in Bronze Table: 200000\n+----+----+----+---------+\n|date|user|text|sentiment|\n+----+----+----+---------+\n|   0|   0|   0|        0|\n+----+----+----+---------+\n\n+---------------+-----+\n|           user|count|\n+---------------+-----+\n|       tweetpet|  310|\n|     nuttychris|  129|\n|      iHomeTech|   81|\n|       tsarnick|   77|\n| Hollywood_Trey|   71|\n|  divxdownloads|   68|\n|      lesley007|   65|\n|  redrobinrockn|   58|\n|    MissxMarisa|   57|\n|     SarahSaner|   56|\n|     sebby_peek|   55|\n|        kasey79|   54|\n|torilovesbradie|   51|\n|    whitsundays|   51|\n|         keza34|   49|\n| MiDesfileNegro|   48|\n|        Dogbook|   47|\n|   TraceyHewins|   46|\n|    effingcards|   43|\n|         Djalfy|   43|\n+---------------+-----+\nonly showing top 20 rows\n\n+--------------------+------------------+\n|tweets_with_mentions|tweets_no_mentions|\n+--------------------+------------------+\n|               93817|            106183|\n+--------------------+------------------+\n\n"
     ]
    },
    {
     "output_type": "display_data",
     "data": {
      "image/png": "[encoded data removed]"
     },
     "metadata": {
      "application/vnd.databricks.v1+output": {
       "addedWidgets": {},
       "arguments": {},
       "data": "data:image/png;base64,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\n",
       "datasetInfos": [],
       "metadata": {},
       "removedWidgets": [],
       "type": "image"
      }
     },
     "output_type": "display_data"
    }
   ],
   "source": [
    "# ENTER YOUR CODE HERE\n",
    "\n",
    "from pyspark.sql.functions import col, isnan, count, desc\n",
    "\n",
    "# Create a Spark session\n",
    "spark = SparkSession.builder \\\n",
    "    .appName(\"TweetSentimentAnalysisStreaming\") \\\n",
    "    .getOrCreate()\n",
    "\n",
    "# Load the Bronze Delta table\n",
    "bronze_df = spark.read.format(\"delta\").load(BRONZE_DELTA)\n",
    "\n",
    "# Count the number of tweets in the Bronze Table\n",
    "num_tweets = bronze_df.count()\n",
    "print(\"Number of tweets in Bronze Table:\", num_tweets)\n",
    "\n",
    "# Check for Null or NaN values in non-numeric columns\n",
    "exclude_columns = [\"processing_time\", \"source_file\"]\n",
    "null_counts = bronze_df.select([count(when(col(c).isNull() | isnan(col(c)), c)).alias(c) for c in bronze_df.columns if c not in exclude_columns])\n",
    "null_counts.show()\n",
    "\n",
    "# Count tweets by each unique user handle and sort by descending count\n",
    "user_tweet_counts = bronze_df.groupBy(\"user\").count().orderBy(desc(\"count\"))\n",
    "user_tweet_counts.show()\n",
    "\n",
    "# Count tweets with at least one mention and tweets with no mentions\n",
    "mention_counts = bronze_df.select(\n",
    "    count(when(col(\"text\").contains(\"@\"), True)).alias(\"tweets_with_mentions\"),\n",
    "    count(when(~col(\"text\").contains(\"@\"), True)).alias(\"tweets_no_mentions\")\n",
    ")\n",
    "mention_counts.show()\n",
    "\n",
    "# Extract top 20 tweeters from user_tweet_counts DataFrame\n",
    "top_20_tweeters = user_tweet_counts.limit(20).toPandas()\n",
    "\n",
    "# Plotting the bar chart\n",
    "import matplotlib.pyplot as plt\n",
    "\n",
    "plt.figure(figsize=(10, 6))\n",
    "plt.barh(top_20_tweeters[\"user\"], top_20_tweeters[\"count\"])\n",
    "plt.xlabel(\"Number of Tweets\")\n",
    "plt.ylabel(\"User Handle\")\n",
    "plt.title(\"Top 20 Tweeters\")\n",
    "plt.gca().invert_yaxis()\n",
    "plt.show()\n"
   ]
  },
  {
   "cell_type": "code",
   "execution_count": 0,
   "metadata": {
    "application/vnd.databricks.v1+cell": {
     "cellMetadata": {
      "byteLimit": 2048000,
      "rowLimit": 10000
     },
     "inputWidgets": {},
     "nuid": "54870e11-bb56-4a11-8482-626f5c484ae2",
     "showTitle": false,
     "title": ""
    }
   },
   "outputs": [
    {
     "output_type": "stream",
     "name": "stdout",
     "output_type": "stream",
     "text": [
      "+--------------------+---------------+--------------------+---------+-----------+--------------------+\n|                date|           user|                text|sentiment|source_file|     processing_time|\n+--------------------+---------------+--------------------+---------+-----------+--------------------+\n|Sun May 03 01:11:...|     Lea_REGGAE|Who needs Nova-Ro...| positive|           |2024-05-12 02:32:...|\n|Sat May 02 04:35:...|   moonjava2005|1 ng�y m?t m?i v?...| negative|           |2024-05-12 02:32:...|\n|Sun Apr 19 07:34:...|    Jamieannett|@&quot;Eine Pr�fu...| positive|           |2024-05-12 02:32:...|\n|Sat May 02 04:01:...|     hafini2204|@leokun87 Tao c?n...| negative|           |2024-05-12 02:32:...|\n|Sun May 03 22:37:...|   Daredevil_BB|c? nh� ?i, c� ai ...| positive|           |2024-05-12 02:32:...|\n|Tue Apr 07 02:27:...|      epi_longo|http://tr.im/imOv...| negative|           |2024-05-12 02:32:...|\n|Sun Apr 19 12:35:...|        elenadc|Maybe it's just m...| negative|           |2024-05-12 02:32:...|\n|Sun Apr 19 23:42:...|          dlead|V?i m?t ch�t b? s...| positive|           |2024-05-12 02:32:...|\n|Mon May 04 01:12:...|          byhuy|@ducban &quot;nhi...| positive|           |2024-05-12 02:32:...|\n|Sun Apr 19 10:50:...|     TomikVitek|@adent @starenka ...| positive|           |2024-05-12 02:32:...|\n|Sun Apr 19 06:44:...|         tta269|@NguyenNoir ??c h...| negative|           |2024-05-12 02:32:...|\n|Sun Apr 19 09:50:...|   allyheartsBB|@victoriax3jonas ...| negative|           |2024-05-12 02:32:...|\n|Mon May 04 02:32:...|    willwalters|@tferriss &quot;S...| negative|           |2024-05-12 02:32:...|\n|Sun May 03 00:45:...|    ruoivietnam|@azendabb: n�i ch...| positive|           |2024-05-12 02:32:...|\n|Sun May 03 01:56:...|        dinhhuy|Photo: thuyduong:...| positive|           |2024-05-12 02:32:...|\n|Sun May 03 09:11:...|thelocaltourist|So @chrisbrogan s...| positive|           |2024-05-12 02:32:...|\n|Mon Apr 20 05:04:...|         buzzvn|Buzz.vn:  \\tTin t...| negative|           |2024-05-12 02:32:...|\n|Tue Apr 07 01:53:...|    ToxicMelvin|Bought the MH bun...| positive|           |2024-05-12 02:32:...|\n|Sat Apr 18 13:53:...|     theresa001|Took niece &amp; ...| negative|           |2024-05-12 02:32:...|\n|Sun Apr 19 01:13:...|     kirstysmac|LOL whenever I sa...| positive|           |2024-05-12 02:32:...|\n+--------------------+---------------+--------------------+---------+-----------+--------------------+\nonly showing top 20 rows\n\n"
     ]
    }
   ],
   "source": [
    "# Show the contents of the Bronze Delta table\n",
    "bronze_df.show()"
   ]
  },
  {
   "cell_type": "markdown",
   "metadata": {
    "application/vnd.databricks.v1+cell": {
     "cellMetadata": {
      "byteLimit": 2048000,
      "rowLimit": 10000
     },
     "inputWidgets": {},
     "nuid": "38c290b9-a42a-4551-857b-3f461b8a1be6",
     "showTitle": false,
     "title": ""
    }
   },
   "source": [
    "## 5.0 Transform the Bronze Data to Silver Data using a stream\n",
    "- setup a read stream on your bronze delta table\n",
    "- setup a write stream to append to the silver delta table\n",
    "- Use the defined SILVER_CHECKPOINT and SILVER_DELTA paths in the includes\n",
    "- name your bronze to silver stream as silver_stream\n",
    "- transform the bronze data to the silver data using the data definition at the top of the notebook"
   ]
  },
  {
   "cell_type": "code",
   "execution_count": 0,
   "metadata": {
    "application/vnd.databricks.v1+cell": {
     "cellMetadata": {
      "byteLimit": 2048000,
      "rowLimit": 10000
     },
     "inputWidgets": {},
     "nuid": "75920ffd-0325-4637-8119-da19e9e27111",
     "showTitle": false,
     "title": ""
    }
   },
   "outputs": [],
   "source": [
    "from pyspark.sql import SparkSession\n",
    "from pyspark.sql.functions import col, current_timestamp, regexp_extract, regexp_replace\n",
    "\n",
    "# Create a Spark session\n",
    "spark = SparkSession.builder \\\n",
    "    .appName(\"TweetSentimentAnalysisStreaming\") \\\n",
    "    .getOrCreate()\n",
    "\n",
    "# Setup a read stream on the Bronze Delta table\n",
    "bronze_stream = spark.readStream \\\n",
    "    .format(\"delta\") \\\n",
    "    .load(BRONZE_DELTA)\n",
    "\n",
    "# Transform Bronze data to Silver data\n",
    "silver_stream = bronze_stream.select(\n",
    "    col(\"date\").cast(\"timestamp\").alias(\"timestamp\"),  # Convert 'date' to timestamp\n",
    "    regexp_extract(col(\"text\"), \"@([A-Za-z0-9_]+)\", 1).alias(\"mention\"),  # Extract mentions\n",
    "    regexp_replace(col(\"text\"), \"@[A-Za-z0-9_]+\", \"\").alias(\"cleaned_text\"),  # Clean text\n",
    "    col(\"sentiment\")  # Include 'sentiment'\n",
    ")\n",
    "\n",
    "# Setup a write stream to write Silver DataFrame to Silver Delta table\n",
    "silver_stream_query = silver_stream.writeStream \\\n",
    "    .format(\"delta\") \\\n",
    "    .outputMode(\"append\") \\\n",
    "    .option(\"checkpointLocation\", SILVER_CHECKPOINT) \\\n",
    "    .option(\"mergeSchema\", \"true\") \\\n",
    "    .start(SILVER_DELTA)\n",
    "\n",
    "\n"
   ]
  },
  {
   "cell_type": "code",
   "execution_count": 0,
   "metadata": {
    "application/vnd.databricks.v1+cell": {
     "cellMetadata": {},
     "inputWidgets": {},
     "nuid": "4a42c840-e41f-4771-906f-1c166ad85b73",
     "showTitle": false,
     "title": ""
    }
   },
   "outputs": [],
   "source": [
    "# # Wait for the streaming query to finish\n",
    "# silver_stream_query.awaitTermination()"
   ]
  },
  {
   "cell_type": "markdown",
   "metadata": {
    "application/vnd.databricks.v1+cell": {
     "cellMetadata": {
      "byteLimit": 2048000,
      "rowLimit": 10000
     },
     "inputWidgets": {},
     "nuid": "9ee38aba-e340-4766-8339-71ef2ecfde3a",
     "showTitle": false,
     "title": ""
    }
   },
   "source": [
    "## 6.0 Transform the Silver Data to Gold Data using a stream\n",
    "- setup a read stream on your silver delta table\n",
    "- setup a write stream to append to the gold delta table\n",
    "- Use the defined GOLD_CHECKPOINT and GOLD_DELTA paths defines in the includes\n",
    "- name your silver to gold stream as gold_stream\n",
    "- transform the silver data to the gold data using the data definition at the top of the notebook\n",
    "- Load the pretrained transformer sentiment classifier from the MODEL_NAME at the production level from the MLflow registry\n",
    "- Use a spark UDF to parallelize the inference across your silver data"
   ]
  },
  {
   "cell_type": "code",
   "execution_count": 0,
   "metadata": {
    "application/vnd.databricks.v1+cell": {
     "cellMetadata": {
      "byteLimit": 2048000,
      "rowLimit": 10000
     },
     "inputWidgets": {},
     "nuid": "d4a2bfee-d4d1-4f89-a26a-c0371415c5a2",
     "showTitle": false,
     "title": ""
    }
   },
   "outputs": [
    {
     "output_type": "stream",
     "name": "stdout",
     "output_type": "stream",
     "text": [
      "/local_disk0/.ephemeral_nfs/envs/pythonEnv-4df44ef4-1159-4b2a-885e-1e18c3ac9bdc/lib/python3.9/site-packages/huggingface_hub/file_download.py:1132: FutureWarning: `resume_download` is deprecated and will be removed in version 1.0.0. Downloads always resume when possible. If you want to force a new download, use `force_download=True`.\n  warnings.warn(\n"
     ]
    }
   ],
   "source": [
    "from pyspark.sql import SparkSession\n",
    "from pyspark.sql.functions import col, current_timestamp, expr\n",
    "from pyspark.sql.types import StructType, StructField, StringType, FloatType, IntegerType\n",
    "from transformers import pipeline\n",
    "\n",
    "# Create a Spark session\n",
    "spark = SparkSession.builder \\\n",
    "    .appName(\"TweetSentimentAnalysisStreaming\") \\\n",
    "    .getOrCreate()\n",
    "\n",
    "# Define the Gold schema\n",
    "gold_schema = StructType([\n",
    "    StructField(\"timestamp\", StringType(), True),\n",
    "    StructField(\"mention\", StringType(), True),\n",
    "    StructField(\"cleaned_text\", StringType(), True),\n",
    "    StructField(\"sentiment\", StringType(), True),\n",
    "    StructField(\"predicted_score\", FloatType(), True),\n",
    "    StructField(\"predicted_sentiment\", StringType(), True),\n",
    "    StructField(\"sentiment_id\", IntegerType(), True),\n",
    "    StructField(\"predicted_sentiment_id\", IntegerType(), True)\n",
    "])\n",
    "\n",
    "# Load the sentiment analysis pipeline\n",
    "nlp_pipeline = pipeline(\"sentiment-analysis\", model=HF_MODEL_NAME)\n",
    "\n",
    "# Define a UDF for sentiment analysis\n",
    "def sentiment_analysis_udf(text, sentiment):\n",
    "    # Perform sentiment analysis using the loaded pipeline\n",
    "    prediction = nlp_pipeline(text)\n",
    "    predicted_score = prediction[0]['score']\n",
    "    predicted_sentiment = prediction[0]['label']\n",
    "    sentiment_id = 1 if sentiment == 'positive' else 0\n",
    "    predicted_sentiment_id = 1 if predicted_sentiment == 'POSITIVE' else 0\n",
    "    \n",
    "    return (current_timestamp(), \"\", text, sentiment, predicted_score,\n",
    "            predicted_sentiment, sentiment_id, predicted_sentiment_id)\n",
    "\n",
    "# Register UDF with Spark\n",
    "spark.udf.register(\"sentiment_analysis_udf\", sentiment_analysis_udf, gold_schema)\n",
    "\n",
    "# Define the Silver Delta schema\n",
    "silver_schema = StructType([\n",
    "    StructField(\"timestamp\", StringType(), True),\n",
    "    StructField(\"mention\", StringType(), True),\n",
    "    StructField(\"cleaned_text\", StringType(), True),\n",
    "    StructField(\"sentiment\", StringType(), True)\n",
    "])\n",
    "\n",
    "# Setup a read stream on the Silver Delta table\n",
    "silver_stream = spark.readStream \\\n",
    "    .format(\"delta\") \\\n",
    "    .load(SILVER_DELTA) \\\n",
    "\n",
    "# Transform Silver Data to Gold Data with sentiment analysis using UDF\n",
    "gold_stream = silver_stream.select(\n",
    "    col(\"timestamp\"), col(\"mention\"), col(\"cleaned_text\"),\n",
    "    col(\"sentiment\"),\n",
    "    expr(\"sentiment_analysis_udf(cleaned_text, sentiment)\").alias(\"transformed_data\")\n",
    ").selectExpr(\n",
    "    \"transformed_data.timestamp as timestamp\",\n",
    "    \"transformed_data.mention as mention\",\n",
    "    \"transformed_data.cleaned_text as cleaned_text\",\n",
    "    \"transformed_data.sentiment as sentiment\",\n",
    "    \"transformed_data.predicted_score as predicted_score\",\n",
    "    \"transformed_data.predicted_sentiment as predicted_sentiment\",\n",
    "    \"transformed_data.sentiment_id as sentiment_id\",\n",
    "    \"transformed_data.predicted_sentiment_id as predicted_sentiment_id\"\n",
    ")\n",
    "\n",
    "# Write the Gold DataFrame to Gold Delta table with schema enforcement and merge operation\n",
    "gold_stream_query = gold_stream.writeStream \\\n",
    "    .format(\"delta\") \\\n",
    "    .outputMode(\"append\") \\\n",
    "    .option(\"checkpointLocation\", GOLD_CHECKPOINT) \\\n",
    "    .option(\"mergeSchema\", \"true\") \\\n",
    "    .start(GOLD_DELTA)\n",
    "\n",
    "\n"
   ]
  },
  {
   "cell_type": "code",
   "execution_count": 0,
   "metadata": {
    "application/vnd.databricks.v1+cell": {
     "cellMetadata": {},
     "inputWidgets": {},
     "nuid": "3bd0cb32-6e4a-4df0-9d06-d1b3c1b27721",
     "showTitle": false,
     "title": ""
    }
   },
   "outputs": [],
   "source": [
    "# # Wait for the streaming query to finish\n",
    "# gold_stream_query.awaitTermination()"
   ]
  },
  {
   "cell_type": "markdown",
   "metadata": {
    "application/vnd.databricks.v1+cell": {
     "cellMetadata": {
      "byteLimit": 2048000,
      "rowLimit": 10000
     },
     "inputWidgets": {},
     "nuid": "0494d8b4-5a55-47fc-af12-47325f34a303",
     "showTitle": false,
     "title": ""
    }
   },
   "source": [
    "## 7.0 Capture the accuracy metrics from the gold table in MLflow\n",
    "Store the following in an MLflow experiment run:\n",
    "- Store the precision, recall, and F1-score as MLflow metrics\n",
    "- Store an image of the confusion matrix as an MLflow artifact\n",
    "- Store the mdoel name and the MLflow version that was used as an MLflow parameters\n",
    "- Store the version of the Delta Table (input-silver) as an MLflow parameter"
   ]
  },
  {
   "cell_type": "code",
   "execution_count": 0,
   "metadata": {
    "application/vnd.databricks.v1+cell": {
     "cellMetadata": {
      "byteLimit": 2048000,
      "rowLimit": 10000
     },
     "inputWidgets": {},
     "nuid": "3bb174ad-67e4-4b0a-be36-ff20a760ee8b",
     "showTitle": false,
     "title": ""
    }
   },
   "outputs": [
    {
     "output_type": "display_data",
     "data": {
      "text/plain": [
       "\u001B[0;31m---------------------------------------------------------------------------\u001B[0m\n",
       "\u001B[0;31mAnalysisException\u001B[0m                         Traceback (most recent call last)\n",
       "\u001B[0;32m<command-1181270846489737>\u001B[0m in \u001B[0;36m<cell line: 27>\u001B[0;34m()\u001B[0m\n",
       "\u001B[1;32m     25\u001B[0m \u001B[0;34m\u001B[0m\u001B[0m\n",
       "\u001B[1;32m     26\u001B[0m \u001B[0;31m# Read Gold Delta table into DataFrame as a streaming DataFrame\u001B[0m\u001B[0;34m\u001B[0m\u001B[0;34m\u001B[0m\u001B[0;34m\u001B[0m\u001B[0m\n",
       "\u001B[0;32m---> 27\u001B[0;31m \u001B[0mgold_df\u001B[0m \u001B[0;34m=\u001B[0m \u001B[0mspark\u001B[0m\u001B[0;34m.\u001B[0m\u001B[0mreadStream\u001B[0m\u001B[0;31m \u001B[0m\u001B[0;31m\\\u001B[0m\u001B[0;34m\u001B[0m\u001B[0;34m\u001B[0m\u001B[0m\n",
       "\u001B[0m\u001B[1;32m     28\u001B[0m     \u001B[0;34m.\u001B[0m\u001B[0mformat\u001B[0m\u001B[0;34m(\u001B[0m\u001B[0;34m\"delta\"\u001B[0m\u001B[0;34m)\u001B[0m\u001B[0;31m \u001B[0m\u001B[0;31m\\\u001B[0m\u001B[0;34m\u001B[0m\u001B[0;34m\u001B[0m\u001B[0m\n",
       "\u001B[1;32m     29\u001B[0m     \u001B[0;34m.\u001B[0m\u001B[0mload\u001B[0m\u001B[0;34m(\u001B[0m\u001B[0mGOLD_DELTA\u001B[0m\u001B[0;34m)\u001B[0m\u001B[0;34m\u001B[0m\u001B[0;34m\u001B[0m\u001B[0m\n",
       "\n",
       "\u001B[0;32m/databricks/spark/python/pyspark/sql/streaming/readwriter.py\u001B[0m in \u001B[0;36mload\u001B[0;34m(self, path, format, schema, **options)\u001B[0m\n",
       "\u001B[1;32m    197\u001B[0m                     \u001B[0;34m+\u001B[0m \u001B[0;34m\"non-empty string. List of paths are not supported.\"\u001B[0m\u001B[0;34m\u001B[0m\u001B[0;34m\u001B[0m\u001B[0m\n",
       "\u001B[1;32m    198\u001B[0m                 )\n",
       "\u001B[0;32m--> 199\u001B[0;31m             \u001B[0;32mreturn\u001B[0m \u001B[0mself\u001B[0m\u001B[0;34m.\u001B[0m\u001B[0m_df\u001B[0m\u001B[0;34m(\u001B[0m\u001B[0mself\u001B[0m\u001B[0;34m.\u001B[0m\u001B[0m_jreader\u001B[0m\u001B[0;34m.\u001B[0m\u001B[0mload\u001B[0m\u001B[0;34m(\u001B[0m\u001B[0mpath\u001B[0m\u001B[0;34m)\u001B[0m\u001B[0;34m)\u001B[0m\u001B[0;34m\u001B[0m\u001B[0;34m\u001B[0m\u001B[0m\n",
       "\u001B[0m\u001B[1;32m    200\u001B[0m         \u001B[0;32melse\u001B[0m\u001B[0;34m:\u001B[0m\u001B[0;34m\u001B[0m\u001B[0;34m\u001B[0m\u001B[0m\n",
       "\u001B[1;32m    201\u001B[0m             \u001B[0;32mreturn\u001B[0m \u001B[0mself\u001B[0m\u001B[0;34m.\u001B[0m\u001B[0m_df\u001B[0m\u001B[0;34m(\u001B[0m\u001B[0mself\u001B[0m\u001B[0;34m.\u001B[0m\u001B[0m_jreader\u001B[0m\u001B[0;34m.\u001B[0m\u001B[0mload\u001B[0m\u001B[0;34m(\u001B[0m\u001B[0;34m)\u001B[0m\u001B[0;34m)\u001B[0m\u001B[0;34m\u001B[0m\u001B[0;34m\u001B[0m\u001B[0m\n",
       "\n",
       "\u001B[0;32m/databricks/spark/python/lib/py4j-0.10.9.5-src.zip/py4j/java_gateway.py\u001B[0m in \u001B[0;36m__call__\u001B[0;34m(self, *args)\u001B[0m\n",
       "\u001B[1;32m   1319\u001B[0m \u001B[0;34m\u001B[0m\u001B[0m\n",
       "\u001B[1;32m   1320\u001B[0m         \u001B[0manswer\u001B[0m \u001B[0;34m=\u001B[0m \u001B[0mself\u001B[0m\u001B[0;34m.\u001B[0m\u001B[0mgateway_client\u001B[0m\u001B[0;34m.\u001B[0m\u001B[0msend_command\u001B[0m\u001B[0;34m(\u001B[0m\u001B[0mcommand\u001B[0m\u001B[0;34m)\u001B[0m\u001B[0;34m\u001B[0m\u001B[0;34m\u001B[0m\u001B[0m\n",
       "\u001B[0;32m-> 1321\u001B[0;31m         return_value = get_return_value(\n",
       "\u001B[0m\u001B[1;32m   1322\u001B[0m             answer, self.gateway_client, self.target_id, self.name)\n",
       "\u001B[1;32m   1323\u001B[0m \u001B[0;34m\u001B[0m\u001B[0m\n",
       "\n",
       "\u001B[0;32m/databricks/spark/python/pyspark/sql/utils.py\u001B[0m in \u001B[0;36mdeco\u001B[0;34m(*a, **kw)\u001B[0m\n",
       "\u001B[1;32m    200\u001B[0m                 \u001B[0;31m# Hide where the exception came from that shows a non-Pythonic\u001B[0m\u001B[0;34m\u001B[0m\u001B[0;34m\u001B[0m\u001B[0;34m\u001B[0m\u001B[0m\n",
       "\u001B[1;32m    201\u001B[0m                 \u001B[0;31m# JVM exception message.\u001B[0m\u001B[0;34m\u001B[0m\u001B[0;34m\u001B[0m\u001B[0;34m\u001B[0m\u001B[0m\n",
       "\u001B[0;32m--> 202\u001B[0;31m                 \u001B[0;32mraise\u001B[0m \u001B[0mconverted\u001B[0m \u001B[0;32mfrom\u001B[0m \u001B[0;32mNone\u001B[0m\u001B[0;34m\u001B[0m\u001B[0;34m\u001B[0m\u001B[0m\n",
       "\u001B[0m\u001B[1;32m    203\u001B[0m             \u001B[0;32melse\u001B[0m\u001B[0;34m:\u001B[0m\u001B[0;34m\u001B[0m\u001B[0;34m\u001B[0m\u001B[0m\n",
       "\u001B[1;32m    204\u001B[0m                 \u001B[0;32mraise\u001B[0m\u001B[0;34m\u001B[0m\u001B[0;34m\u001B[0m\u001B[0m\n",
       "\n",
       "\u001B[0;31mAnalysisException\u001B[0m: Table schema is not set.  Write data into it or use CREATE TABLE to set the schema."
      ]
     },
     "metadata": {
      "application/vnd.databricks.v1+output": {
       "arguments": {},
       "data": "\u001B[0;31m---------------------------------------------------------------------------\u001B[0m\n\u001B[0;31mAnalysisException\u001B[0m                         Traceback (most recent call last)\n\u001B[0;32m<command-1181270846489737>\u001B[0m in \u001B[0;36m<cell line: 27>\u001B[0;34m()\u001B[0m\n\u001B[1;32m     25\u001B[0m \u001B[0;34m\u001B[0m\u001B[0m\n\u001B[1;32m     26\u001B[0m \u001B[0;31m# Read Gold Delta table into DataFrame as a streaming DataFrame\u001B[0m\u001B[0;34m\u001B[0m\u001B[0;34m\u001B[0m\u001B[0;34m\u001B[0m\u001B[0m\n\u001B[0;32m---> 27\u001B[0;31m \u001B[0mgold_df\u001B[0m \u001B[0;34m=\u001B[0m \u001B[0mspark\u001B[0m\u001B[0;34m.\u001B[0m\u001B[0mreadStream\u001B[0m\u001B[0;31m \u001B[0m\u001B[0;31m\\\u001B[0m\u001B[0;34m\u001B[0m\u001B[0;34m\u001B[0m\u001B[0m\n\u001B[0m\u001B[1;32m     28\u001B[0m     \u001B[0;34m.\u001B[0m\u001B[0mformat\u001B[0m\u001B[0;34m(\u001B[0m\u001B[0;34m\"delta\"\u001B[0m\u001B[0;34m)\u001B[0m\u001B[0;31m \u001B[0m\u001B[0;31m\\\u001B[0m\u001B[0;34m\u001B[0m\u001B[0;34m\u001B[0m\u001B[0m\n\u001B[1;32m     29\u001B[0m     \u001B[0;34m.\u001B[0m\u001B[0mload\u001B[0m\u001B[0;34m(\u001B[0m\u001B[0mGOLD_DELTA\u001B[0m\u001B[0;34m)\u001B[0m\u001B[0;34m\u001B[0m\u001B[0;34m\u001B[0m\u001B[0m\n\n\u001B[0;32m/databricks/spark/python/pyspark/sql/streaming/readwriter.py\u001B[0m in \u001B[0;36mload\u001B[0;34m(self, path, format, schema, **options)\u001B[0m\n\u001B[1;32m    197\u001B[0m                     \u001B[0;34m+\u001B[0m \u001B[0;34m\"non-empty string. List of paths are not supported.\"\u001B[0m\u001B[0;34m\u001B[0m\u001B[0;34m\u001B[0m\u001B[0m\n\u001B[1;32m    198\u001B[0m                 )\n\u001B[0;32m--> 199\u001B[0;31m             \u001B[0;32mreturn\u001B[0m \u001B[0mself\u001B[0m\u001B[0;34m.\u001B[0m\u001B[0m_df\u001B[0m\u001B[0;34m(\u001B[0m\u001B[0mself\u001B[0m\u001B[0;34m.\u001B[0m\u001B[0m_jreader\u001B[0m\u001B[0;34m.\u001B[0m\u001B[0mload\u001B[0m\u001B[0;34m(\u001B[0m\u001B[0mpath\u001B[0m\u001B[0;34m)\u001B[0m\u001B[0;34m)\u001B[0m\u001B[0;34m\u001B[0m\u001B[0;34m\u001B[0m\u001B[0m\n\u001B[0m\u001B[1;32m    200\u001B[0m         \u001B[0;32melse\u001B[0m\u001B[0;34m:\u001B[0m\u001B[0;34m\u001B[0m\u001B[0;34m\u001B[0m\u001B[0m\n\u001B[1;32m    201\u001B[0m             \u001B[0;32mreturn\u001B[0m \u001B[0mself\u001B[0m\u001B[0;34m.\u001B[0m\u001B[0m_df\u001B[0m\u001B[0;34m(\u001B[0m\u001B[0mself\u001B[0m\u001B[0;34m.\u001B[0m\u001B[0m_jreader\u001B[0m\u001B[0;34m.\u001B[0m\u001B[0mload\u001B[0m\u001B[0;34m(\u001B[0m\u001B[0;34m)\u001B[0m\u001B[0;34m)\u001B[0m\u001B[0;34m\u001B[0m\u001B[0;34m\u001B[0m\u001B[0m\n\n\u001B[0;32m/databricks/spark/python/lib/py4j-0.10.9.5-src.zip/py4j/java_gateway.py\u001B[0m in \u001B[0;36m__call__\u001B[0;34m(self, *args)\u001B[0m\n\u001B[1;32m   1319\u001B[0m \u001B[0;34m\u001B[0m\u001B[0m\n\u001B[1;32m   1320\u001B[0m         \u001B[0manswer\u001B[0m \u001B[0;34m=\u001B[0m \u001B[0mself\u001B[0m\u001B[0;34m.\u001B[0m\u001B[0mgateway_client\u001B[0m\u001B[0;34m.\u001B[0m\u001B[0msend_command\u001B[0m\u001B[0;34m(\u001B[0m\u001B[0mcommand\u001B[0m\u001B[0;34m)\u001B[0m\u001B[0;34m\u001B[0m\u001B[0;34m\u001B[0m\u001B[0m\n\u001B[0;32m-> 1321\u001B[0;31m         return_value = get_return_value(\n\u001B[0m\u001B[1;32m   1322\u001B[0m             answer, self.gateway_client, self.target_id, self.name)\n\u001B[1;32m   1323\u001B[0m \u001B[0;34m\u001B[0m\u001B[0m\n\n\u001B[0;32m/databricks/spark/python/pyspark/sql/utils.py\u001B[0m in \u001B[0;36mdeco\u001B[0;34m(*a, **kw)\u001B[0m\n\u001B[1;32m    200\u001B[0m                 \u001B[0;31m# Hide where the exception came from that shows a non-Pythonic\u001B[0m\u001B[0;34m\u001B[0m\u001B[0;34m\u001B[0m\u001B[0;34m\u001B[0m\u001B[0m\n\u001B[1;32m    201\u001B[0m                 \u001B[0;31m# JVM exception message.\u001B[0m\u001B[0;34m\u001B[0m\u001B[0;34m\u001B[0m\u001B[0;34m\u001B[0m\u001B[0m\n\u001B[0;32m--> 202\u001B[0;31m                 \u001B[0;32mraise\u001B[0m \u001B[0mconverted\u001B[0m \u001B[0;32mfrom\u001B[0m \u001B[0;32mNone\u001B[0m\u001B[0;34m\u001B[0m\u001B[0;34m\u001B[0m\u001B[0m\n\u001B[0m\u001B[1;32m    203\u001B[0m             \u001B[0;32melse\u001B[0m\u001B[0;34m:\u001B[0m\u001B[0;34m\u001B[0m\u001B[0;34m\u001B[0m\u001B[0m\n\u001B[1;32m    204\u001B[0m                 \u001B[0;32mraise\u001B[0m\u001B[0;34m\u001B[0m\u001B[0;34m\u001B[0m\u001B[0m\n\n\u001B[0;31mAnalysisException\u001B[0m: Table schema is not set.  Write data into it or use CREATE TABLE to set the schema.",
       "errorSummary": "<span class='ansi-red-fg'>AnalysisException</span>: Table schema is not set.  Write data into it or use CREATE TABLE to set the schema.",
       "errorTraceType": "ansi",
       "metadata": {},
       "type": "ipynbError"
      }
     },
     "output_type": "display_data"
    }
   ],
   "source": [
    "from pyspark.sql import SparkSession\n",
    "from pyspark.sql.functions import col, current_timestamp, expr\n",
    "from pyspark.ml.evaluation import MulticlassClassificationEvaluator\n",
    "import mlflow\n",
    "import matplotlib.pyplot as plt\n",
    "import seaborn as sns\n",
    "from sklearn.metrics import confusion_matrix\n",
    "\n",
    "# Create a Spark session\n",
    "spark = SparkSession.builder \\\n",
    "    .appName(\"CaptureAccuracyMetrics\") \\\n",
    "    .getOrCreate()\n",
    "\n",
    "# Define the Gold Delta schema\n",
    "gold_schema = StructType([\n",
    "    StructField(\"timestamp\", StringType(), True),\n",
    "    StructField(\"mention\", StringType(), True),\n",
    "    StructField(\"cleaned_text\", StringType(), True),\n",
    "    StructField(\"sentiment\", StringType(), True),\n",
    "    StructField(\"predicted_score\", FloatType(), True),\n",
    "    StructField(\"predicted_sentiment\", StringType(), True),\n",
    "    StructField(\"sentiment_id\", IntegerType(), True),\n",
    "    StructField(\"predicted_sentiment_id\", IntegerType(), True)\n",
    "])\n",
    "\n",
    "# Read Gold Delta table into DataFrame as a streaming DataFrame\n",
    "gold_df = spark.readStream \\\n",
    "    .format(\"delta\") \\\n",
    "    .load(GOLD_DELTA)\n",
    "\n",
    "# Calculate accuracy metrics using Gold Data\n",
    "evaluator = MulticlassClassificationEvaluator(labelCol=\"sentiment_id\", predictionCol=\"predicted_sentiment_id\",\n",
    "                                              metricName=\"weightedPrecision\", metricLabel=1.0)\n",
    "precision = evaluator.evaluate(gold_df)\n",
    "evaluator.setMetricName(\"weightedRecall\")\n",
    "recall = evaluator.evaluate(gold_df)\n",
    "evaluator.setMetricName(\"f1\")\n",
    "f1_score = evaluator.evaluate(gold_df)\n",
    "\n",
    "# Start MLflow run\n",
    "with mlflow.start_run() as run:\n",
    "    # Log accuracy metrics as MLflow metrics\n",
    "    mlflow.log_metric(\"precision\", precision)\n",
    "    mlflow.log_metric(\"recall\", recall)\n",
    "    mlflow.log_metric(\"f1_score\", f1_score)\n",
    "\n",
    "    # Generate and save confusion matrix image\n",
    "    actual_labels = gold_df.select(\"sentiment_id\").collect()\n",
    "    predicted_labels = gold_df.select(\"predicted_sentiment_id\").collect()\n",
    "    cm = confusion_matrix(actual_labels, predicted_labels)\n",
    "    plt.figure(figsize=(8, 6))\n",
    "    sns.heatmap(cm, annot=True, cmap='Blues', fmt='g')\n",
    "    plt.xlabel('Predicted Sentiment')\n",
    "    plt.ylabel('Actual Sentiment')\n",
    "    plt.title('Confusion Matrix')\n",
    "    plt.tight_layout()\n",
    "    plt.savefig(\"confusion_matrix.png\")\n",
    "    mlflow.log_artifact(\"confusion_matrix.png\", \"confusion_matrix\")\n",
    "\n",
    "    # Log model and version information as parameters\n",
    "    mlflow.log_param(\"model_name\", HF_MODEL_NAME)\n",
    "    mlflow.log_param(\"mlflow_version\", mlflow.__version__)\n",
    "\n",
    "    # Store the version of the Delta Table (input-silver) as an MLflow parameter\n",
    "    mlflow.log_param(\"gold_delta_version\", GOLD_DELTA_VERSION)\n",
    "\n",
    "    # Optionally, save MLflow experiment ID or run ID for reference\n",
    "    mlflow_experiment_id = run.info.experiment_id\n",
    "    mlflow_run_id = run.info.run_id\n",
    "\n",
    "# End of MLflow run\n"
   ]
  },
  {
   "cell_type": "markdown",
   "metadata": {
    "application/vnd.databricks.v1+cell": {
     "cellMetadata": {
      "byteLimit": 2048000,
      "rowLimit": 10000
     },
     "inputWidgets": {},
     "nuid": "81e0e2de-b872-4698-81cc-1669646c2183",
     "showTitle": false,
     "title": ""
    }
   },
   "source": [
    "## 8.0 Application Data Processing and Visualization\n",
    "- How many mentions are there in the gold data total?\n",
    "- Count the number of neutral, positive and negative tweets for each mention in new columns\n",
    "- Capture the total for each mention in a new column\n",
    "- Sort the mention count totals in descending order\n",
    "- Plot a bar chart of the top 20 mentions with positive sentiment (the people who are in favor)\n",
    "- Plot a bar chart of the top 20 mentions with negative sentiment (the people who are the vilians)\n",
    "\n",
    "You may want to use the \"Loop Application\" widget to control whether you repeateded display the latest plots while the data comes in from your streams before moving on to the next section and cleaning up your run.\n",
    "\n",
    "*note: A mention is a specific twitter user that has been \"mentioned\" in a tweet with an @user reference."
   ]
  },
  {
   "cell_type": "code",
   "execution_count": 0,
   "metadata": {
    "application/vnd.databricks.v1+cell": {
     "cellMetadata": {
      "byteLimit": 2048000,
      "rowLimit": 10000
     },
     "inputWidgets": {},
     "nuid": "8250667b-eaa5-48a1-90c7-bfe11e666e32",
     "showTitle": false,
     "title": ""
    }
   },
   "outputs": [
    {
     "output_type": "display_data",
     "data": {
      "text/plain": [
       "\u001B[0;31m---------------------------------------------------------------------------\u001B[0m\n",
       "\u001B[0;31mPythonException\u001B[0m                           Traceback (most recent call last)\n",
       "\u001B[0;32m<command-1181270846489739>\u001B[0m in \u001B[0;36m<cell line: 6>\u001B[0;34m()\u001B[0m\n",
       "\u001B[1;32m      4\u001B[0m \u001B[0;34m\u001B[0m\u001B[0m\n",
       "\u001B[1;32m      5\u001B[0m \u001B[0;31m# Calculate the total number of mentions in the gold data\u001B[0m\u001B[0;34m\u001B[0m\u001B[0;34m\u001B[0m\u001B[0;34m\u001B[0m\u001B[0m\n",
       "\u001B[0;32m----> 6\u001B[0;31m \u001B[0mtotal_mentions\u001B[0m \u001B[0;34m=\u001B[0m \u001B[0mgold_df\u001B[0m\u001B[0;34m.\u001B[0m\u001B[0mselect\u001B[0m\u001B[0;34m(\u001B[0m\u001B[0mF\u001B[0m\u001B[0;34m.\u001B[0m\u001B[0mcountDistinct\u001B[0m\u001B[0;34m(\u001B[0m\u001B[0;34m\"mention\"\u001B[0m\u001B[0;34m)\u001B[0m\u001B[0;34m)\u001B[0m\u001B[0;34m.\u001B[0m\u001B[0mcollect\u001B[0m\u001B[0;34m(\u001B[0m\u001B[0;34m)\u001B[0m\u001B[0;34m[\u001B[0m\u001B[0;36m0\u001B[0m\u001B[0;34m]\u001B[0m\u001B[0;34m[\u001B[0m\u001B[0;36m0\u001B[0m\u001B[0;34m]\u001B[0m\u001B[0;34m\u001B[0m\u001B[0;34m\u001B[0m\u001B[0m\n",
       "\u001B[0m\u001B[1;32m      7\u001B[0m \u001B[0;34m\u001B[0m\u001B[0m\n",
       "\u001B[1;32m      8\u001B[0m \u001B[0;31m# Count the number of neutral, positive, and negative tweets for each mention\u001B[0m\u001B[0;34m\u001B[0m\u001B[0;34m\u001B[0m\u001B[0;34m\u001B[0m\u001B[0m\n",
       "\n",
       "\u001B[0;32m/databricks/spark/python/pyspark/instrumentation_utils.py\u001B[0m in \u001B[0;36mwrapper\u001B[0;34m(*args, **kwargs)\u001B[0m\n",
       "\u001B[1;32m     46\u001B[0m             \u001B[0mstart\u001B[0m \u001B[0;34m=\u001B[0m \u001B[0mtime\u001B[0m\u001B[0;34m.\u001B[0m\u001B[0mperf_counter\u001B[0m\u001B[0;34m(\u001B[0m\u001B[0;34m)\u001B[0m\u001B[0;34m\u001B[0m\u001B[0;34m\u001B[0m\u001B[0m\n",
       "\u001B[1;32m     47\u001B[0m             \u001B[0;32mtry\u001B[0m\u001B[0;34m:\u001B[0m\u001B[0;34m\u001B[0m\u001B[0;34m\u001B[0m\u001B[0m\n",
       "\u001B[0;32m---> 48\u001B[0;31m                 \u001B[0mres\u001B[0m \u001B[0;34m=\u001B[0m \u001B[0mfunc\u001B[0m\u001B[0;34m(\u001B[0m\u001B[0;34m*\u001B[0m\u001B[0margs\u001B[0m\u001B[0;34m,\u001B[0m \u001B[0;34m**\u001B[0m\u001B[0mkwargs\u001B[0m\u001B[0;34m)\u001B[0m\u001B[0;34m\u001B[0m\u001B[0;34m\u001B[0m\u001B[0m\n",
       "\u001B[0m\u001B[1;32m     49\u001B[0m                 logger.log_success(\n",
       "\u001B[1;32m     50\u001B[0m                     \u001B[0mmodule_name\u001B[0m\u001B[0;34m,\u001B[0m \u001B[0mclass_name\u001B[0m\u001B[0;34m,\u001B[0m \u001B[0mfunction_name\u001B[0m\u001B[0;34m,\u001B[0m \u001B[0mtime\u001B[0m\u001B[0;34m.\u001B[0m\u001B[0mperf_counter\u001B[0m\u001B[0;34m(\u001B[0m\u001B[0;34m)\u001B[0m \u001B[0;34m-\u001B[0m \u001B[0mstart\u001B[0m\u001B[0;34m,\u001B[0m \u001B[0msignature\u001B[0m\u001B[0;34m\u001B[0m\u001B[0;34m\u001B[0m\u001B[0m\n",
       "\n",
       "\u001B[0;32m/databricks/spark/python/pyspark/sql/dataframe.py\u001B[0m in \u001B[0;36mcollect\u001B[0;34m(self)\u001B[0m\n",
       "\u001B[1;32m    835\u001B[0m         \u001B[0;31m# Default path used in OSS Spark / for non-DF-ACL clusters:\u001B[0m\u001B[0;34m\u001B[0m\u001B[0;34m\u001B[0m\u001B[0;34m\u001B[0m\u001B[0m\n",
       "\u001B[1;32m    836\u001B[0m         \u001B[0;32mwith\u001B[0m \u001B[0mSCCallSiteSync\u001B[0m\u001B[0;34m(\u001B[0m\u001B[0mself\u001B[0m\u001B[0;34m.\u001B[0m\u001B[0m_sc\u001B[0m\u001B[0;34m)\u001B[0m\u001B[0;34m:\u001B[0m\u001B[0;34m\u001B[0m\u001B[0;34m\u001B[0m\u001B[0m\n",
       "\u001B[0;32m--> 837\u001B[0;31m             \u001B[0msock_info\u001B[0m \u001B[0;34m=\u001B[0m \u001B[0mself\u001B[0m\u001B[0;34m.\u001B[0m\u001B[0m_jdf\u001B[0m\u001B[0;34m.\u001B[0m\u001B[0mcollectToPython\u001B[0m\u001B[0;34m(\u001B[0m\u001B[0;34m)\u001B[0m\u001B[0;34m\u001B[0m\u001B[0;34m\u001B[0m\u001B[0m\n",
       "\u001B[0m\u001B[1;32m    838\u001B[0m         \u001B[0;32mreturn\u001B[0m \u001B[0mlist\u001B[0m\u001B[0;34m(\u001B[0m\u001B[0m_load_from_socket\u001B[0m\u001B[0;34m(\u001B[0m\u001B[0msock_info\u001B[0m\u001B[0;34m,\u001B[0m \u001B[0mBatchedSerializer\u001B[0m\u001B[0;34m(\u001B[0m\u001B[0mCPickleSerializer\u001B[0m\u001B[0;34m(\u001B[0m\u001B[0;34m)\u001B[0m\u001B[0;34m)\u001B[0m\u001B[0;34m)\u001B[0m\u001B[0;34m)\u001B[0m\u001B[0;34m\u001B[0m\u001B[0;34m\u001B[0m\u001B[0m\n",
       "\u001B[1;32m    839\u001B[0m \u001B[0;34m\u001B[0m\u001B[0m\n",
       "\n",
       "\u001B[0;32m/databricks/spark/python/lib/py4j-0.10.9.5-src.zip/py4j/java_gateway.py\u001B[0m in \u001B[0;36m__call__\u001B[0;34m(self, *args)\u001B[0m\n",
       "\u001B[1;32m   1319\u001B[0m \u001B[0;34m\u001B[0m\u001B[0m\n",
       "\u001B[1;32m   1320\u001B[0m         \u001B[0manswer\u001B[0m \u001B[0;34m=\u001B[0m \u001B[0mself\u001B[0m\u001B[0;34m.\u001B[0m\u001B[0mgateway_client\u001B[0m\u001B[0;34m.\u001B[0m\u001B[0msend_command\u001B[0m\u001B[0;34m(\u001B[0m\u001B[0mcommand\u001B[0m\u001B[0;34m)\u001B[0m\u001B[0;34m\u001B[0m\u001B[0;34m\u001B[0m\u001B[0m\n",
       "\u001B[0;32m-> 1321\u001B[0;31m         return_value = get_return_value(\n",
       "\u001B[0m\u001B[1;32m   1322\u001B[0m             answer, self.gateway_client, self.target_id, self.name)\n",
       "\u001B[1;32m   1323\u001B[0m \u001B[0;34m\u001B[0m\u001B[0m\n",
       "\n",
       "\u001B[0;32m/databricks/spark/python/pyspark/sql/utils.py\u001B[0m in \u001B[0;36mdeco\u001B[0;34m(*a, **kw)\u001B[0m\n",
       "\u001B[1;32m    200\u001B[0m                 \u001B[0;31m# Hide where the exception came from that shows a non-Pythonic\u001B[0m\u001B[0;34m\u001B[0m\u001B[0;34m\u001B[0m\u001B[0;34m\u001B[0m\u001B[0m\n",
       "\u001B[1;32m    201\u001B[0m                 \u001B[0;31m# JVM exception message.\u001B[0m\u001B[0;34m\u001B[0m\u001B[0;34m\u001B[0m\u001B[0;34m\u001B[0m\u001B[0m\n",
       "\u001B[0;32m--> 202\u001B[0;31m                 \u001B[0;32mraise\u001B[0m \u001B[0mconverted\u001B[0m \u001B[0;32mfrom\u001B[0m \u001B[0;32mNone\u001B[0m\u001B[0;34m\u001B[0m\u001B[0;34m\u001B[0m\u001B[0m\n",
       "\u001B[0m\u001B[1;32m    203\u001B[0m             \u001B[0;32melse\u001B[0m\u001B[0;34m:\u001B[0m\u001B[0;34m\u001B[0m\u001B[0;34m\u001B[0m\u001B[0m\n",
       "\u001B[1;32m    204\u001B[0m                 \u001B[0;32mraise\u001B[0m\u001B[0;34m\u001B[0m\u001B[0;34m\u001B[0m\u001B[0m\n",
       "\n",
       "\u001B[0;31mPythonException\u001B[0m: An exception was thrown from a UDF: 'AssertionError', from <command-1599202439943756>, line 35. Full traceback below:\n",
       "Traceback (most recent call last):\n",
       "  File \"<command-1599202439943756>\", line 35, in sentiment_analysis_udf\n",
       "  File \"/databricks/spark/python/pyspark/sql/functions.py\", line 1997, in current_timestamp\n",
       "    return _invoke_function(\"current_timestamp\")\n",
       "  File \"/databricks/spark/python/pyspark/sql/functions.py\", line 85, in _invoke_function\n",
       "    assert SparkContext._active_spark_context is not None\n",
       "AssertionError\n"
      ]
     },
     "metadata": {
      "application/vnd.databricks.v1+output": {
       "arguments": {},
       "data": "\u001B[0;31m---------------------------------------------------------------------------\u001B[0m\n\u001B[0;31mPythonException\u001B[0m                           Traceback (most recent call last)\n\u001B[0;32m<command-1181270846489739>\u001B[0m in \u001B[0;36m<cell line: 6>\u001B[0;34m()\u001B[0m\n\u001B[1;32m      4\u001B[0m \u001B[0;34m\u001B[0m\u001B[0m\n\u001B[1;32m      5\u001B[0m \u001B[0;31m# Calculate the total number of mentions in the gold data\u001B[0m\u001B[0;34m\u001B[0m\u001B[0;34m\u001B[0m\u001B[0;34m\u001B[0m\u001B[0m\n\u001B[0;32m----> 6\u001B[0;31m \u001B[0mtotal_mentions\u001B[0m \u001B[0;34m=\u001B[0m \u001B[0mgold_df\u001B[0m\u001B[0;34m.\u001B[0m\u001B[0mselect\u001B[0m\u001B[0;34m(\u001B[0m\u001B[0mF\u001B[0m\u001B[0;34m.\u001B[0m\u001B[0mcountDistinct\u001B[0m\u001B[0;34m(\u001B[0m\u001B[0;34m\"mention\"\u001B[0m\u001B[0;34m)\u001B[0m\u001B[0;34m)\u001B[0m\u001B[0;34m.\u001B[0m\u001B[0mcollect\u001B[0m\u001B[0;34m(\u001B[0m\u001B[0;34m)\u001B[0m\u001B[0;34m[\u001B[0m\u001B[0;36m0\u001B[0m\u001B[0;34m]\u001B[0m\u001B[0;34m[\u001B[0m\u001B[0;36m0\u001B[0m\u001B[0;34m]\u001B[0m\u001B[0;34m\u001B[0m\u001B[0;34m\u001B[0m\u001B[0m\n\u001B[0m\u001B[1;32m      7\u001B[0m \u001B[0;34m\u001B[0m\u001B[0m\n\u001B[1;32m      8\u001B[0m \u001B[0;31m# Count the number of neutral, positive, and negative tweets for each mention\u001B[0m\u001B[0;34m\u001B[0m\u001B[0;34m\u001B[0m\u001B[0;34m\u001B[0m\u001B[0m\n\n\u001B[0;32m/databricks/spark/python/pyspark/instrumentation_utils.py\u001B[0m in \u001B[0;36mwrapper\u001B[0;34m(*args, **kwargs)\u001B[0m\n\u001B[1;32m     46\u001B[0m             \u001B[0mstart\u001B[0m \u001B[0;34m=\u001B[0m \u001B[0mtime\u001B[0m\u001B[0;34m.\u001B[0m\u001B[0mperf_counter\u001B[0m\u001B[0;34m(\u001B[0m\u001B[0;34m)\u001B[0m\u001B[0;34m\u001B[0m\u001B[0;34m\u001B[0m\u001B[0m\n\u001B[1;32m     47\u001B[0m             \u001B[0;32mtry\u001B[0m\u001B[0;34m:\u001B[0m\u001B[0;34m\u001B[0m\u001B[0;34m\u001B[0m\u001B[0m\n\u001B[0;32m---> 48\u001B[0;31m                 \u001B[0mres\u001B[0m \u001B[0;34m=\u001B[0m \u001B[0mfunc\u001B[0m\u001B[0;34m(\u001B[0m\u001B[0;34m*\u001B[0m\u001B[0margs\u001B[0m\u001B[0;34m,\u001B[0m \u001B[0;34m**\u001B[0m\u001B[0mkwargs\u001B[0m\u001B[0;34m)\u001B[0m\u001B[0;34m\u001B[0m\u001B[0;34m\u001B[0m\u001B[0m\n\u001B[0m\u001B[1;32m     49\u001B[0m                 logger.log_success(\n\u001B[1;32m     50\u001B[0m                     \u001B[0mmodule_name\u001B[0m\u001B[0;34m,\u001B[0m \u001B[0mclass_name\u001B[0m\u001B[0;34m,\u001B[0m \u001B[0mfunction_name\u001B[0m\u001B[0;34m,\u001B[0m \u001B[0mtime\u001B[0m\u001B[0;34m.\u001B[0m\u001B[0mperf_counter\u001B[0m\u001B[0;34m(\u001B[0m\u001B[0;34m)\u001B[0m \u001B[0;34m-\u001B[0m \u001B[0mstart\u001B[0m\u001B[0;34m,\u001B[0m \u001B[0msignature\u001B[0m\u001B[0;34m\u001B[0m\u001B[0;34m\u001B[0m\u001B[0m\n\n\u001B[0;32m/databricks/spark/python/pyspark/sql/dataframe.py\u001B[0m in \u001B[0;36mcollect\u001B[0;34m(self)\u001B[0m\n\u001B[1;32m    835\u001B[0m         \u001B[0;31m# Default path used in OSS Spark / for non-DF-ACL clusters:\u001B[0m\u001B[0;34m\u001B[0m\u001B[0;34m\u001B[0m\u001B[0;34m\u001B[0m\u001B[0m\n\u001B[1;32m    836\u001B[0m         \u001B[0;32mwith\u001B[0m \u001B[0mSCCallSiteSync\u001B[0m\u001B[0;34m(\u001B[0m\u001B[0mself\u001B[0m\u001B[0;34m.\u001B[0m\u001B[0m_sc\u001B[0m\u001B[0;34m)\u001B[0m\u001B[0;34m:\u001B[0m\u001B[0;34m\u001B[0m\u001B[0;34m\u001B[0m\u001B[0m\n\u001B[0;32m--> 837\u001B[0;31m             \u001B[0msock_info\u001B[0m \u001B[0;34m=\u001B[0m \u001B[0mself\u001B[0m\u001B[0;34m.\u001B[0m\u001B[0m_jdf\u001B[0m\u001B[0;34m.\u001B[0m\u001B[0mcollectToPython\u001B[0m\u001B[0;34m(\u001B[0m\u001B[0;34m)\u001B[0m\u001B[0;34m\u001B[0m\u001B[0;34m\u001B[0m\u001B[0m\n\u001B[0m\u001B[1;32m    838\u001B[0m         \u001B[0;32mreturn\u001B[0m \u001B[0mlist\u001B[0m\u001B[0;34m(\u001B[0m\u001B[0m_load_from_socket\u001B[0m\u001B[0;34m(\u001B[0m\u001B[0msock_info\u001B[0m\u001B[0;34m,\u001B[0m \u001B[0mBatchedSerializer\u001B[0m\u001B[0;34m(\u001B[0m\u001B[0mCPickleSerializer\u001B[0m\u001B[0;34m(\u001B[0m\u001B[0;34m)\u001B[0m\u001B[0;34m)\u001B[0m\u001B[0;34m)\u001B[0m\u001B[0;34m)\u001B[0m\u001B[0;34m\u001B[0m\u001B[0;34m\u001B[0m\u001B[0m\n\u001B[1;32m    839\u001B[0m \u001B[0;34m\u001B[0m\u001B[0m\n\n\u001B[0;32m/databricks/spark/python/lib/py4j-0.10.9.5-src.zip/py4j/java_gateway.py\u001B[0m in \u001B[0;36m__call__\u001B[0;34m(self, *args)\u001B[0m\n\u001B[1;32m   1319\u001B[0m \u001B[0;34m\u001B[0m\u001B[0m\n\u001B[1;32m   1320\u001B[0m         \u001B[0manswer\u001B[0m \u001B[0;34m=\u001B[0m \u001B[0mself\u001B[0m\u001B[0;34m.\u001B[0m\u001B[0mgateway_client\u001B[0m\u001B[0;34m.\u001B[0m\u001B[0msend_command\u001B[0m\u001B[0;34m(\u001B[0m\u001B[0mcommand\u001B[0m\u001B[0;34m)\u001B[0m\u001B[0;34m\u001B[0m\u001B[0;34m\u001B[0m\u001B[0m\n\u001B[0;32m-> 1321\u001B[0;31m         return_value = get_return_value(\n\u001B[0m\u001B[1;32m   1322\u001B[0m             answer, self.gateway_client, self.target_id, self.name)\n\u001B[1;32m   1323\u001B[0m \u001B[0;34m\u001B[0m\u001B[0m\n\n\u001B[0;32m/databricks/spark/python/pyspark/sql/utils.py\u001B[0m in \u001B[0;36mdeco\u001B[0;34m(*a, **kw)\u001B[0m\n\u001B[1;32m    200\u001B[0m                 \u001B[0;31m# Hide where the exception came from that shows a non-Pythonic\u001B[0m\u001B[0;34m\u001B[0m\u001B[0;34m\u001B[0m\u001B[0;34m\u001B[0m\u001B[0m\n\u001B[1;32m    201\u001B[0m                 \u001B[0;31m# JVM exception message.\u001B[0m\u001B[0;34m\u001B[0m\u001B[0;34m\u001B[0m\u001B[0;34m\u001B[0m\u001B[0m\n\u001B[0;32m--> 202\u001B[0;31m                 \u001B[0;32mraise\u001B[0m \u001B[0mconverted\u001B[0m \u001B[0;32mfrom\u001B[0m \u001B[0;32mNone\u001B[0m\u001B[0;34m\u001B[0m\u001B[0;34m\u001B[0m\u001B[0m\n\u001B[0m\u001B[1;32m    203\u001B[0m             \u001B[0;32melse\u001B[0m\u001B[0;34m:\u001B[0m\u001B[0;34m\u001B[0m\u001B[0;34m\u001B[0m\u001B[0m\n\u001B[1;32m    204\u001B[0m                 \u001B[0;32mraise\u001B[0m\u001B[0;34m\u001B[0m\u001B[0;34m\u001B[0m\u001B[0m\n\n\u001B[0;31mPythonException\u001B[0m: An exception was thrown from a UDF: 'AssertionError', from <command-1599202439943756>, line 35. Full traceback below:\nTraceback (most recent call last):\n  File \"<command-1599202439943756>\", line 35, in sentiment_analysis_udf\n  File \"/databricks/spark/python/pyspark/sql/functions.py\", line 1997, in current_timestamp\n    return _invoke_function(\"current_timestamp\")\n  File \"/databricks/spark/python/pyspark/sql/functions.py\", line 85, in _invoke_function\n    assert SparkContext._active_spark_context is not None\nAssertionError\n",
       "errorSummary": "<span class='ansi-red-fg'>PythonException</span>: An exception was thrown from a UDF: 'AssertionError', from <command-1599202439943756>, line 35. Full traceback below:\nTraceback (most recent call last):\n  File \"<command-1599202439943756>\", line 35, in sentiment_analysis_udf\n  File \"/databricks/spark/python/pyspark/sql/functions.py\", line 1997, in current_timestamp\n    return _invoke_function(\"current_timestamp\")\n  File \"/databricks/spark/python/pyspark/sql/functions.py\", line 85, in _invoke_function\n    assert SparkContext._active_spark_context is not None\nAssertionError\n",
       "errorTraceType": "ansi",
       "metadata": {},
       "type": "ipynbError"
      }
     },
     "output_type": "display_data"
    }
   ],
   "source": [
    "# ENTER YOUR CODE HERE\n",
    "from pyspark.sql import functions as F\n",
    "import matplotlib.pyplot as plt\n",
    "\n",
    "# Calculate the total number of mentions in the gold data\n",
    "total_mentions = gold_df.select(F.countDistinct(\"mention\")).collect()[0][0]\n",
    "\n",
    "# Count the number of neutral, positive, and negative tweets for each mention\n",
    "mention_counts = gold_df.groupBy(\"mention\", \"predicted_sentiment\").count() \\\n",
    "    .withColumnRenamed(\"count\", \"mention_count\")\n",
    "\n",
    "# Calculate the total for each mention\n",
    "mention_totals = mention_counts.groupBy(\"mention\").agg(F.sum(\"mention_count\").alias(\"total_count\"))\n",
    "\n",
    "# Sort the mention count totals in descending order\n",
    "sorted_mentions = mention_totals.orderBy(F.desc(\"total_count\"))\n",
    "\n",
    "# Plot a bar chart of the top 20 mentions with positive sentiment\n",
    "top_positive_mentions = sorted_mentions.filter(mention_totals[\"predicted_sentiment\"] == \"positive\") \\\n",
    "    .limit(20).toPandas()\n",
    "\n",
    "plt.figure(figsize=(10, 6))\n",
    "plt.barh(top_positive_mentions[\"mention\"], top_positive_mentions[\"total_count\"])\n",
    "plt.xlabel(\"Total Count\")\n",
    "plt.ylabel(\"Mentions\")\n",
    "plt.title(\"Top 20 Mentions with Positive Sentiment\")\n",
    "plt.gca().invert_yaxis()  # Invert y-axis for better visualization\n",
    "plt.show()\n",
    "\n",
    "# Plot a bar chart of the top 20 mentions with negative sentiment\n",
    "top_negative_mentions = sorted_mentions.filter(mention_totals[\"predicted_sentiment\"] == \"negative\") \\\n",
    "    .limit(20).toPandas()\n",
    "\n",
    "plt.figure(figsize=(10, 6))\n",
    "plt.barh(top_negative_mentions[\"mention\"], top_negative_mentions[\"total_count\"])\n",
    "plt.xlabel(\"Total Count\")\n",
    "plt.ylabel(\"Mentions\")\n",
    "plt.title(\"Top 20 Mentions with Negative Sentiment\")\n",
    "plt.gca().invert_yaxis()  # Invert y-axis for better visualization\n",
    "plt.show()\n"
   ]
  },
  {
   "cell_type": "markdown",
   "metadata": {
    "application/vnd.databricks.v1+cell": {
     "cellMetadata": {
      "byteLimit": 2048000,
      "rowLimit": 10000
     },
     "inputWidgets": {},
     "nuid": "5d5add3f-0c13-4d81-86d8-12cf3cfdd2c8",
     "showTitle": false,
     "title": ""
    }
   },
   "source": [
    "## 9.0 Clean up and completion of your pipeline\n",
    "- using the utilities what streams are running? If any.\n",
    "- Stop all active streams\n",
    "- print out the elapsed time of your notebook."
   ]
  },
  {
   "cell_type": "code",
   "execution_count": 0,
   "metadata": {
    "application/vnd.databricks.v1+cell": {
     "cellMetadata": {
      "byteLimit": 2048000,
      "rowLimit": 10000
     },
     "inputWidgets": {},
     "nuid": "0304e685-c26e-447d-b230-c37266f30003",
     "showTitle": false,
     "title": ""
    }
   },
   "outputs": [
    {
     "output_type": "display_data",
     "data": {
      "text/html": [
       "<style scoped>\n",
       "  .ansiout {\n",
       "    display: block;\n",
       "    unicode-bidi: embed;\n",
       "    white-space: pre-wrap;\n",
       "    word-wrap: break-word;\n",
       "    word-break: break-all;\n",
       "    font-family: \"Menlo\", \"Monaco\", \"Consolas\", \"Ubuntu Mono\", \"Source Code Pro\", monospace;\n",
       "    font-size: 13px;\n",
       "    color: #555;\n",
       "    margin-left: 4px;\n",
       "    line-height: 19px;\n",
       "  }\n",
       "</style>"
      ]
     },
     "metadata": {
      "application/vnd.databricks.v1+output": {
       "arguments": {},
       "data": "",
       "errorSummary": "Command skipped",
       "errorTraceType": "raw",
       "metadata": {},
       "type": "ipynbError"
      }
     },
     "output_type": "display_data"
    }
   ],
   "source": [
    "# ENTER YOUR CODE HERE"
   ]
  },
  {
   "cell_type": "code",
   "execution_count": 0,
   "metadata": {
    "application/vnd.databricks.v1+cell": {
     "cellMetadata": {
      "byteLimit": 2048000,
      "rowLimit": 10000
     },
     "inputWidgets": {},
     "nuid": "ea759fc8-1d78-4d6d-b571-e2e256448b76",
     "showTitle": false,
     "title": ""
    }
   },
   "outputs": [
    {
     "output_type": "display_data",
     "data": {
      "text/html": [
       "<style scoped>\n",
       "  .ansiout {\n",
       "    display: block;\n",
       "    unicode-bidi: embed;\n",
       "    white-space: pre-wrap;\n",
       "    word-wrap: break-word;\n",
       "    word-break: break-all;\n",
       "    font-family: \"Menlo\", \"Monaco\", \"Consolas\", \"Ubuntu Mono\", \"Source Code Pro\", monospace;\n",
       "    font-size: 13px;\n",
       "    color: #555;\n",
       "    margin-left: 4px;\n",
       "    line-height: 19px;\n",
       "  }\n",
       "</style>"
      ]
     },
     "metadata": {
      "application/vnd.databricks.v1+output": {
       "arguments": {},
       "data": "",
       "errorSummary": "Command skipped",
       "errorTraceType": "raw",
       "metadata": {},
       "type": "ipynbError"
      }
     },
     "output_type": "display_data"
    }
   ],
   "source": [
    "# Get the notebooks ending time note START_TIME was established in the include file when the notebook started.\n",
    "END_TIME = time.time()"
   ]
  },
  {
   "cell_type": "markdown",
   "metadata": {
    "application/vnd.databricks.v1+cell": {
     "cellMetadata": {
      "byteLimit": 2048000,
      "rowLimit": 10000
     },
     "inputWidgets": {},
     "nuid": "b88fc0e5-f50c-4ed1-9480-16a4c8a44b30",
     "showTitle": false,
     "title": ""
    }
   },
   "source": [
    "## 10.0 How Optimized is your Spark Application (Grad Students Only)\n",
    "Graduate students (registered for the DSCC-402 section of the course) are required to do this section.  This is a written analysis using the Spark UI (link to screen shots) that support your analysis of your pipelines execution and what is driving its performance.\n",
    "Recall that Spark Optimization has 5 significant dimensions of considertation:\n",
    "- Spill: write to executor disk due to lack of memory\n",
    "- Skew: imbalance in partition size\n",
    "- Shuffle: network io moving data between executors (wide transforms)\n",
    "- Storage: inefficiency due to disk storage format (small files, location)\n",
    "- Serialization: distribution of code segments across the cluster\n",
    "\n",
    "Comment on each of the dimentions of performance and how your impelementation is or is not being affected.  Use specific information in the Spark UI to support your description.  \n",
    "\n",
    "Note: you can take sreenshots of the Spark UI from your project runs in databricks and then link to those pictures by storing them as a publicly accessible file on your cloud drive (google, one drive, etc.)\n",
    "\n",
    "References:\n",
    "- [Spark UI Reference Reference](https://spark.apache.org/docs/latest/web-ui.html#web-ui)\n",
    "- [Spark UI Simulator](https://www.databricks.training/spark-ui-simulator/index.html)"
   ]
  },
  {
   "cell_type": "markdown",
   "metadata": {
    "application/vnd.databricks.v1+cell": {
     "cellMetadata": {
      "byteLimit": 2048000,
      "rowLimit": 10000
     },
     "inputWidgets": {},
     "nuid": "a0a5707d-a5ca-4e87-9e74-3b13d00337b0",
     "showTitle": false,
     "title": ""
    }
   },
   "source": [
    "### ENTER YOUR MARKDOWN HERE"
   ]
  }
 ],
 "metadata": {
  "application/vnd.databricks.v1+notebook": {
   "dashboards": [],
   "language": "python",
   "notebookMetadata": {
    "mostRecentlyExecutedCommandWithImplicitDF": {
     "commandId": -1,
     "dataframes": [
      "_sqldf"
     ]
    },
    "pythonIndentUnit": 4,
    "widgetLayout": [
     {
      "breakBefore": false,
      "name": "clear_previous_run",
      "width": 184
     },
     {
      "breakBefore": false,
      "name": "optimize_tables",
      "width": 184
     },
     {
      "breakBefore": false,
      "name": "stop_streams",
      "width": 184
     }
    ]
   },
   "notebookName": "Starter Streaming Tweet Sentiment - Spring 2024 Final Project",
   "widgets": {
    "clear_previous_run": {
     "currentValue": "No",
     "nuid": "11b43403-c70f-41ef-ab0e-41172583baaa",
     "typedWidgetInfo": null,
     "widgetInfo": {
      "widgetType": "dropdown",
      "defaultValue": "No",
      "label": null,
      "name": "clear_previous_run",
      "options": {
       "widgetType": "dropdown",
       "autoCreated": null,
       "choices": [
        "No",
        "Yes"
       ]
      }
     }
    },
    "optimize_tables": {
     "currentValue": "No",
     "nuid": "d27f2950-3146-4010-8bc6-58c47a93e7a9",
     "typedWidgetInfo": null,
     "widgetInfo": {
      "widgetType": "dropdown",
      "defaultValue": "No",
      "label": null,
      "name": "optimize_tables",
      "options": {
       "widgetType": "dropdown",
       "autoCreated": null,
       "choices": [
        "No",
        "Yes"
       ]
      }
     }
    },
    "stop_streams": {
     "currentValue": "Yes",
     "nuid": "d70a2190-266e-473c-86a7-84f7bf56b386",
     "typedWidgetInfo": null,
     "widgetInfo": {
      "widgetType": "dropdown",
      "defaultValue": "No",
      "label": null,
      "name": "stop_streams",
      "options": {
       "widgetType": "dropdown",
       "autoCreated": null,
       "choices": [
        "No",
        "Yes"
       ]
      }
     }
    }
   }
  }
 },
 "nbformat": 4,
 "nbformat_minor": 0
}
